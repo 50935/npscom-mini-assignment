{
 "cells": [
  {
   "cell_type": "markdown",
   "metadata": {},
   "source": [
    "# - Tuples\n",
    "\n"
   ]
  },
  {
   "cell_type": "markdown",
   "metadata": {},
   "source": [
    "Tuples: can not edit\\\n",
    "      :"
   ]
  },
  {
   "cell_type": "code",
   "execution_count": 17,
   "metadata": {},
   "outputs": [
    {
     "data": {
      "text/plain": [
       "(6, 2, 3, 8, 4, 5)"
      ]
     },
     "execution_count": 17,
     "metadata": {},
     "output_type": "execute_result"
    }
   ],
   "source": [
    "T = (6,2,3,8,4,5)   # any tuple is defined\n",
    "T"
   ]
  },
  {
   "cell_type": "code",
   "execution_count": 19,
   "metadata": {},
   "outputs": [
    {
     "data": {
      "text/plain": [
       "tuple"
      ]
     },
     "execution_count": 19,
     "metadata": {},
     "output_type": "execute_result"
    }
   ],
   "source": [
    "A=('6',)   # tuple of single element (5,)\n",
    "type(A)"
   ]
  },
  {
   "cell_type": "code",
   "execution_count": 5,
   "metadata": {},
   "outputs": [
    {
     "data": {
      "text/plain": [
       "tuple"
      ]
     },
     "execution_count": 5,
     "metadata": {},
     "output_type": "execute_result"
    }
   ],
   "source": [
    "type(T)    # find type of T"
   ]
  },
  {
   "cell_type": "code",
   "execution_count": 20,
   "metadata": {},
   "outputs": [
    {
     "data": {
      "text/plain": [
       "(6, 5, 3, 3)"
      ]
     },
     "execution_count": 20,
     "metadata": {},
     "output_type": "execute_result"
    }
   ],
   "source": [
    "T[0],T[-1],T[2],T[-4]    #indexing of elements, 3 can get by two type"
   ]
  },
  {
   "cell_type": "code",
   "execution_count": 11,
   "metadata": {},
   "outputs": [
    {
     "data": {
      "text/plain": [
       "[(1, 2, 0), (6, 3, 9), (9, 5, 1)]"
      ]
     },
     "execution_count": 11,
     "metadata": {},
     "output_type": "execute_result"
    }
   ],
   "source": [
    "LT = [(1,2,0),(6,3,9),(9,5,1)]    # list of tuple #list of list is LL = [[1,2],[6,3],[9,5]]\n",
    "LT"
   ]
  },
  {
   "cell_type": "code",
   "execution_count": 12,
   "metadata": {},
   "outputs": [
    {
     "data": {
      "text/plain": [
       "(1, 9)"
      ]
     },
     "execution_count": 12,
     "metadata": {},
     "output_type": "execute_result"
    }
   ],
   "source": [
    "LT[0][0],LT[1][-1]    #indexing  #1st element of tuple of 1st element of list"
   ]
  },
  {
   "cell_type": "code",
   "execution_count": 19,
   "metadata": {},
   "outputs": [
    {
     "data": {
      "text/plain": [
       "[(1, 2), ('a', 'b'), (True, False)]"
      ]
     },
     "execution_count": 19,
     "metadata": {},
     "output_type": "execute_result"
    }
   ],
   "source": [
    "LTS = [(1,2),(\"a\",\"b\"),(True, False)]   \n",
    "LTS"
   ]
  },
  {
   "cell_type": "code",
   "execution_count": 18,
   "metadata": {},
   "outputs": [
    {
     "data": {
      "text/plain": [
       "(tuple, bool, str)"
      ]
     },
     "execution_count": 18,
     "metadata": {},
     "output_type": "execute_result"
    }
   ],
   "source": [
    "type(LTS[1]),type(LTS[-1][1]),type(LTS[1][0])"
   ]
  },
  {
   "cell_type": "markdown",
   "metadata": {},
   "source": [
    "# Dictionary"
   ]
  },
  {
   "cell_type": "markdown",
   "metadata": {},
   "source": [
    "**Dictionary**: organizes the data with key-value pair\\\n",
    "          : can edit  \\\n",
    "           : { }\\\n",
    "            : key:value"
   ]
  },
  {
   "cell_type": "code",
   "execution_count": 21,
   "metadata": {},
   "outputs": [
    {
     "name": "stdout",
     "output_type": "stream",
     "text": [
      "d['Name']:  ('Zara', 'Tabu', 'Sona')\n",
      "d['Age']:  (7, 10, 11)\n"
     ]
    }
   ],
   "source": [
    "d = {'Name': ('Zara','Tabu','Sona'), 'Age': (7,10,11), 'Class': ('First','Two','Three')}\n",
    "print (\"d['Name']: \", d['Name'])\n",
    "print (\"d['Age']: \", d['Age'])"
   ]
  },
  {
   "cell_type": "code",
   "execution_count": 22,
   "metadata": {},
   "outputs": [
    {
     "data": {
      "text/plain": [
       "dict_keys(['Name', 'Age', 'Class'])"
      ]
     },
     "execution_count": 22,
     "metadata": {},
     "output_type": "execute_result"
    }
   ],
   "source": [
    "d.keys()         #key"
   ]
  },
  {
   "cell_type": "code",
   "execution_count": 30,
   "metadata": {},
   "outputs": [
    {
     "data": {
      "text/plain": [
       "dict_values([('Zara', 'Tabu', 'Sona'), (7, 10, 11), ('First', 'Two', 'Three')])"
      ]
     },
     "execution_count": 30,
     "metadata": {},
     "output_type": "execute_result"
    }
   ],
   "source": [
    "d.values()   #value:any type"
   ]
  },
  {
   "cell_type": "code",
   "execution_count": 45,
   "metadata": {},
   "outputs": [
    {
     "data": {
      "text/plain": [
       "(('Zara', 'Tabu', 'Sona'), (7, 10, 11))"
      ]
     },
     "execution_count": 45,
     "metadata": {},
     "output_type": "execute_result"
    }
   ],
   "source": [
    "d['Name'] ,d['Age']           #indexing"
   ]
  },
  {
   "cell_type": "code",
   "execution_count": 67,
   "metadata": {},
   "outputs": [],
   "source": [
    "d.update({'catagoies': [1,2.0] })"
   ]
  },
  {
   "cell_type": "code",
   "execution_count": 72,
   "metadata": {},
   "outputs": [
    {
     "data": {
      "text/plain": [
       "{'Name': ('Zara', 'Tabu', 'Sona'),\n",
       " 'Age': (7, 10, 11),\n",
       " 'Class': ('First', 'Two', 'Three'),\n",
       " 'catagoies': [1, 2.0],\n",
       " 'roll no': (1, 2, 3),\n",
       " 'plan': {'first': [12, 34, 56], 'second': [1, 3, 5]}}"
      ]
     },
     "execution_count": 72,
     "metadata": {},
     "output_type": "execute_result"
    }
   ],
   "source": [
    "d.update({\"roll no\": (1,2,3),\"plan\":{\"first\":[12,34,56],\"second\":[1,3,5]}})\n",
    "d"
   ]
  },
  {
   "cell_type": "code",
   "execution_count": 42,
   "metadata": {},
   "outputs": [],
   "source": [
    "D = {'fruit':'apple',\n",
    "    'vegetable' : 'carrot',\n",
    "    'rice': 2.0,\n",
    "    'milk': 10,\n",
    "    'curd':2}"
   ]
  },
  {
   "cell_type": "code",
   "execution_count": 44,
   "metadata": {},
   "outputs": [
    {
     "data": {
      "text/plain": [
       "('apple', 2.0)"
      ]
     },
     "execution_count": 44,
     "metadata": {},
     "output_type": "execute_result"
    }
   ],
   "source": [
    "D['fruit'], D['rice']"
   ]
  },
  {
   "cell_type": "code",
   "execution_count": 46,
   "metadata": {},
   "outputs": [],
   "source": [
    "D.update({\"salt\": 2.0})"
   ]
  },
  {
   "cell_type": "code",
   "execution_count": 47,
   "metadata": {},
   "outputs": [],
   "source": [
    "D.update({\"sugar\":5})"
   ]
  },
  {
   "cell_type": "code",
   "execution_count": 49,
   "metadata": {},
   "outputs": [
    {
     "data": {
      "text/plain": [
       "{'fruit': 'apple',\n",
       " 'vegetable': 'carrot',\n",
       " 'rice': 2.0,\n",
       " 'milk': 10,\n",
       " 'curd': 2,\n",
       " 'salt': 2.0,\n",
       " 'sugar': 5}"
      ]
     },
     "execution_count": 49,
     "metadata": {},
     "output_type": "execute_result"
    }
   ],
   "source": [
    "D"
   ]
  },
  {
   "cell_type": "code",
   "execution_count": 50,
   "metadata": {},
   "outputs": [
    {
     "data": {
      "text/plain": [
       "['fruit', 'vegetable', 'rice', 'milk', 'curd', 'salt', 'sugar']"
      ]
     },
     "execution_count": 50,
     "metadata": {},
     "output_type": "execute_result"
    }
   ],
   "source": [
    "list(D)   # create a list form a Dictionary gives keys "
   ]
  },
  {
   "cell_type": "code",
   "execution_count": 55,
   "metadata": {},
   "outputs": [
    {
     "data": {
      "text/plain": [
       "['fruit', 'vegetable', 'rice', 'milk', 'curd', 'salt', 'sugar']"
      ]
     },
     "execution_count": 55,
     "metadata": {},
     "output_type": "execute_result"
    }
   ],
   "source": [
    "list(D.keys())   ## as previous"
   ]
  },
  {
   "cell_type": "code",
   "execution_count": 56,
   "metadata": {},
   "outputs": [
    {
     "data": {
      "text/plain": [
       "['apple', 'carrot', 2.0, 10, 2, 2.0, 5]"
      ]
     },
     "execution_count": 56,
     "metadata": {},
     "output_type": "execute_result"
    }
   ],
   "source": [
    "list(D.values())"
   ]
  },
  {
   "cell_type": "code",
   "execution_count": 25,
   "metadata": {},
   "outputs": [
    {
     "name": "stdout",
     "output_type": "stream",
     "text": [
      "[0.  0.2 0.4 0.6 0.8 1.  1.2 1.4 1.6 1.8 2.  2.2 2.4 2.6 2.8 3.  3.2 3.4\n",
      " 3.6 3.8 4.  4.2 4.4 4.6 4.8 5.  5.2 5.4 5.6 5.8 6.  6.2]\n"
     ]
    }
   ],
   "source": [
    "import numpy as np\n",
    "N = np.arange(0,2*np.pi,0.2)\n",
    "print(N)"
   ]
  },
  {
   "cell_type": "code",
   "execution_count": 26,
   "metadata": {},
   "outputs": [
    {
     "data": {
      "text/plain": [
       "{'sin': [0.0,\n",
       "  0.09983341664682815,\n",
       "  0.19866933079506122,\n",
       "  0.2955202066613396,\n",
       "  0.3894183423086505,\n",
       "  0.479425538604203,\n",
       "  0.5646424733950355,\n",
       "  0.6442176872376911,\n",
       "  0.7173560908995228,\n",
       "  0.7833269096274834,\n",
       "  0.8414709848078965,\n",
       "  0.8912073600614354,\n",
       "  0.9320390859672264,\n",
       "  0.963558185417193,\n",
       "  0.9854497299884603,\n",
       "  0.9974949866040544,\n",
       "  0.9995736030415051,\n",
       "  0.9916648104524686,\n",
       "  0.9738476308781951,\n",
       "  0.9463000876874145,\n",
       "  0.9092974268256817,\n",
       "  0.8632093666488737,\n",
       "  0.8084964038195901,\n",
       "  0.74570521217672,\n",
       "  0.6754631805511506,\n",
       "  0.5984721441039564,\n",
       "  0.5155013718214642,\n",
       "  0.4273798802338298,\n",
       "  0.33498815015590466,\n",
       "  0.23924932921398198,\n",
       "  0.1411200080598672,\n",
       "  0.04158066243329049,\n",
       "  -0.058374143427580086,\n",
       "  -0.15774569414324865,\n",
       "  -0.25554110202683167,\n",
       "  -0.35078322768961984,\n",
       "  -0.44252044329485246,\n",
       "  -0.5298361409084934,\n",
       "  -0.6118578909427193,\n",
       "  -0.6877661591839741,\n",
       "  -0.7568024953079282,\n",
       "  -0.8182771110644108,\n",
       "  -0.8715757724135882,\n",
       "  -0.9161659367494549,\n",
       "  -0.9516020738895161,\n",
       "  -0.977530117665097,\n",
       "  -0.9936910036334645,\n",
       "  -0.9999232575641008,\n",
       "  -0.9961646088358406,\n",
       "  -0.9824526126243325,\n",
       "  -0.9589242746631385,\n",
       "  -0.9258146823277321,\n",
       "  -0.8834546557201531,\n",
       "  -0.8322674422239008,\n",
       "  -0.7727644875559871,\n",
       "  -0.7055403255703919,\n",
       "  -0.6312666378723208,\n",
       "  -0.5506855425976376,\n",
       "  -0.4646021794137566,\n",
       "  -0.373876664830236,\n",
       "  -0.27941549819892586,\n",
       "  -0.18216250427209502,\n",
       "  -0.0830894028174964,\n",
       "  0.0168139004843506,\n",
       "  0.11654920485049364,\n",
       "  0.21511998808781552,\n",
       "  0.3115413635133787,\n",
       "  0.4048499206165983,\n",
       "  0.49411335113860894,\n",
       "  0.5784397643882001,\n",
       "  0.6569865987187891,\n",
       "  0.7289690401258765,\n",
       "  0.7936678638491531,\n",
       "  0.8504366206285648,\n",
       "  0.8987080958116269,\n",
       "  0.9379999767747389,\n",
       "  0.9679196720314865,\n",
       "  0.9881682338770004,\n",
       "  0.998543345374605,\n",
       "  0.998941341839772,\n",
       "  0.9893582466233818,\n",
       "  0.9698898108450863,\n",
       "  0.9407305566797726,\n",
       "  0.9021718337562933,\n",
       "  0.8545989080882805,\n",
       "  0.7984871126234903,\n",
       "  0.7343970978741133,\n",
       "  0.662969230082182,\n",
       "  0.5849171928917617,\n",
       "  0.5010208564578846,\n",
       "  0.4121184852417566,\n",
       "  0.3190983623493521,\n",
       "  0.22288991410024592,\n",
       "  0.1244544235070617,\n",
       "  0.024775425453357765,\n",
       "  -0.0751511204618093,\n",
       "  -0.1743267812229814,\n",
       "  -0.2717606264109442,\n",
       "  -0.3664791292519284,\n",
       "  -0.45753589377532133,\n",
       "  -0.5440211108893698,\n",
       "  -0.6250706488928834,\n",
       "  -0.6998746875935437,\n",
       "  -0.7676858097635825,\n",
       "  -0.8278264690856537,\n",
       "  -0.87969575997167,\n",
       "  -0.9227754216128073,\n",
       "  -0.9566350162701884,\n",
       "  -0.9809362300664916,\n",
       "  -0.9954362533063774,\n",
       "  -0.9999902065507035,\n",
       "  -0.9945525882039891,\n",
       "  -0.979177729151317,\n",
       "  -0.954019249902089,\n",
       "  -0.9193285256646757,\n",
       "  -0.8754521746884285,\n",
       "  -0.8228285949687079,\n",
       "  -0.7619835839190321,\n",
       "  -0.6935250847771224,\n",
       "  -0.6181371122370333,\n",
       "  -0.5365729180004349,\n",
       "  -0.44964746453459986,\n",
       "  -0.35822928223682704,\n",
       "  -0.26323179136580094,\n",
       "  -0.1656041754483094,\n",
       "  -0.06632189735120068]}"
      ]
     },
     "execution_count": 26,
     "metadata": {},
     "output_type": "execute_result"
    }
   ],
   "source": [
    "import numpy as np\n",
    "N = np.arange(0,4*np.pi,0.1)\n",
    "data = {\"sin\": [np.sin(x) for x in N]}\n",
    "data"
   ]
  },
  {
   "cell_type": "code",
   "execution_count": 28,
   "metadata": {},
   "outputs": [
    {
     "name": "stderr",
     "output_type": "stream",
     "text": [
      "H:\\Programs\\anaconda3\\lib\\site-packages\\ipykernel_launcher.py:5: RuntimeWarning: overflow encountered in exp\n",
      "  \"\"\"\n"
     ]
    }
   ],
   "source": [
    "import numpy as np\n",
    "N = np.arange(0,4*np.pi,0.1)\n",
    "data = {\"sin\": [np.sin(x) for x in N],\\\n",
    "         \"cos\": [np.cos(x) for x in N],\\\n",
    "         \"exp\":[1/((np.exp(x**3)+5)) for x in N],\\\n",
    "         \"sqr\":[1/(x**2+1) for x in N],         \\\n",
    "         \"trig\": [np.cos(x)*np.sin(x) for x in N]}"
   ]
  },
  {
   "cell_type": "code",
   "execution_count": 29,
   "metadata": {},
   "outputs": [
    {
     "name": "stdout",
     "output_type": "stream",
     "text": [
      "{'sin': [0.0, 0.09983341664682815, 0.19866933079506122, 0.2955202066613396, 0.3894183423086505, 0.479425538604203, 0.5646424733950355, 0.6442176872376911, 0.7173560908995228, 0.7833269096274834, 0.8414709848078965, 0.8912073600614354, 0.9320390859672264, 0.963558185417193, 0.9854497299884603, 0.9974949866040544, 0.9995736030415051, 0.9916648104524686, 0.9738476308781951, 0.9463000876874145, 0.9092974268256817, 0.8632093666488737, 0.8084964038195901, 0.74570521217672, 0.6754631805511506, 0.5984721441039564, 0.5155013718214642, 0.4273798802338298, 0.33498815015590466, 0.23924932921398198, 0.1411200080598672, 0.04158066243329049, -0.058374143427580086, -0.15774569414324865, -0.25554110202683167, -0.35078322768961984, -0.44252044329485246, -0.5298361409084934, -0.6118578909427193, -0.6877661591839741, -0.7568024953079282, -0.8182771110644108, -0.8715757724135882, -0.9161659367494549, -0.9516020738895161, -0.977530117665097, -0.9936910036334645, -0.9999232575641008, -0.9961646088358406, -0.9824526126243325, -0.9589242746631385, -0.9258146823277321, -0.8834546557201531, -0.8322674422239008, -0.7727644875559871, -0.7055403255703919, -0.6312666378723208, -0.5506855425976376, -0.4646021794137566, -0.373876664830236, -0.27941549819892586, -0.18216250427209502, -0.0830894028174964, 0.0168139004843506, 0.11654920485049364, 0.21511998808781552, 0.3115413635133787, 0.4048499206165983, 0.49411335113860894, 0.5784397643882001, 0.6569865987187891, 0.7289690401258765, 0.7936678638491531, 0.8504366206285648, 0.8987080958116269, 0.9379999767747389, 0.9679196720314865, 0.9881682338770004, 0.998543345374605, 0.998941341839772, 0.9893582466233818, 0.9698898108450863, 0.9407305566797726, 0.9021718337562933, 0.8545989080882805, 0.7984871126234903, 0.7343970978741133, 0.662969230082182, 0.5849171928917617, 0.5010208564578846, 0.4121184852417566, 0.3190983623493521, 0.22288991410024592, 0.1244544235070617, 0.024775425453357765, -0.0751511204618093, -0.1743267812229814, -0.2717606264109442, -0.3664791292519284, -0.45753589377532133, -0.5440211108893698, -0.6250706488928834, -0.6998746875935437, -0.7676858097635825, -0.8278264690856537, -0.87969575997167, -0.9227754216128073, -0.9566350162701884, -0.9809362300664916, -0.9954362533063774, -0.9999902065507035, -0.9945525882039891, -0.979177729151317, -0.954019249902089, -0.9193285256646757, -0.8754521746884285, -0.8228285949687079, -0.7619835839190321, -0.6935250847771224, -0.6181371122370333, -0.5365729180004349, -0.44964746453459986, -0.35822928223682704, -0.26323179136580094, -0.1656041754483094, -0.06632189735120068], 'cos': [1.0, 0.9950041652780258, 0.9800665778412416, 0.955336489125606, 0.9210609940028851, 0.8775825618903728, 0.8253356149096782, 0.7648421872844884, 0.6967067093471654, 0.6216099682706644, 0.5403023058681398, 0.4535961214255773, 0.3623577544766734, 0.26749882862458735, 0.16996714290024081, 0.0707372016677029, -0.029199522301288815, -0.12884449429552486, -0.2272020946930871, -0.3232895668635036, -0.4161468365471424, -0.5048461045998576, -0.5885011172553458, -0.6662760212798244, -0.7373937155412458, -0.8011436155469337, -0.8568887533689473, -0.9040721420170612, -0.9422223406686583, -0.9709581651495907, -0.9899924966004454, -0.9991351502732795, -0.9982947757947531, -0.9874797699088649, -0.9667981925794609, -0.9364566872907963, -0.896758416334147, -0.848100031710408, -0.7909677119144165, -0.7259323042001399, -0.6536436208636119, -0.5748239465332685, -0.4902608213406994, -0.40079917207997545, -0.30733286997841935, -0.2107957994307797, -0.11215252693505398, -0.01238866346289056, 0.08749898343944727, 0.18651236942257576, 0.28366218546322625, 0.37797774271298107, 0.4685166713003771, 0.5543743361791615, 0.6346928759426347, 0.70866977429126, 0.7755658785102502, 0.8347127848391598, 0.8855195169413194, 0.9274784307440359, 0.960170286650366, 0.9832684384425847, 0.9965420970232175, 0.9998586363834151, 0.9931849187581926, 0.9765876257280235, 0.9502325919585293, 0.9143831482353194, 0.8693974903498248, 0.8157251001253568, 0.7539022543433046, 0.6845466664428059, 0.6083513145322546, 0.5260775173811045, 0.43854732757439036, 0.3466353178350258, 0.25125984258225487, 0.15337386203786435, 0.05395542056264886, -0.04600212563953695, -0.14550003380861354, -0.2435441537357911, -0.33915486098383624, -0.43137684497062084, -0.5192886541166856, -0.6020119026848236, -0.6787200473200125, -0.7486466455973999, -0.811093014061656, -0.8654352092411123, -0.9111302618846769, -0.9477216021311119, -0.974843621404164, -0.9922253254526034, -0.9996930420352065, -0.9971721561963784, -0.9846878557941267, -0.9623648798313097, -0.9304262721047533, -0.8891911526253609, -0.8390715290764524, -0.7805681801691826, -0.714265652027199, -0.6408264175949933, -0.5609842574272288, -0.4755369279959925, -0.385338190771828, -0.29128928172134383, -0.1943299064553348, -0.09542885100095065, 0.004425697988050785, 0.10423602686569865, 0.20300486381875213, 0.2997453432770149, 0.3934908663478909, 0.4833047587530059, 0.568289629767975, 0.6475963386538773, 0.7204324789908387, 0.7860702961410393, 0.8438539587324921, 0.8932061115093233, 0.9336336440746379, 0.9647326178866098, 0.9861923022788637, 0.9977982791785807], 'exp': [0.16666666666666666, 0.16663887962885854, 0.16644385145890356, 0.16590990175537484, 0.16485076953397, 0.1630483931136477, 0.16022810383061212, 0.1560264735016, 0.14995594796287118, 0.1413825918178662, 0.12956251432964971, 0.11383264316601742, 0.09407883013880171, 0.07143888398400272, 0.0486640333535784, 0.02921901905653016, 0.015361122668206828, 0.0070898381361110124, 0.002889838676872018, 0.0010444800422606685, 0.0003349008942321817, 9.501505662171934e-05, 2.3745471142488335e-05, 5.199094948904569e-06, 9.915415757222763e-07, 1.6373757900899762e-07, 2.3272344413994088e-08, 2.8299691846979776e-09, 2.9266280627193995e-10, 2.5585380542441886e-11, 1.8795288165214204e-12, 1.1532755626072212e-13, 5.8754132319546395e-15, 2.470354068419128e-16, 8.520982694267012e-18, 2.396757463279964e-19, 5.4645782890335226e-21, 1.0038795519234072e-22, 1.4770431708415813e-24, 1.7301574533151385e-26, 1.603810890548638e-28, 1.1694724969337357e-30, 6.667920677376715e-33, 2.9549397302382656e-35, 1.0117165480569253e-37, 2.6602064159439866e-40, 5.339644078283569e-43, 8.132873276984928e-46, 9.3433938801944e-49, 8.048009837341697e-52, 5.166420632837861e-55, 2.4569859954238645e-58, 8.60441777069705e-62, 2.2056693978375127e-65, 4.1138997239463936e-69, 5.549521948068604e-73, 5.381957526697844e-77, 3.729941435214894e-81, 1.8362636911087356e-85, 6.383128702940214e-90, 1.557370374296946e-94, 2.6509662771180914e-99, 3.129426219771781e-104, 2.5466407464192485e-109, 1.4200620975430701e-114, 5.3935897186638005e-120, 1.3869909608435465e-125, 2.4004283058918796e-131, 2.7791850581701827e-137, 2.1397057041433095e-143, 1.0889118078156954e-149, 3.6410587584870857e-156, 7.951576079644582e-163, 1.127362367258802e-169, 1.0314611270281428e-176, 6.053624060118734e-184, 2.2654032125164887e-191, 5.373253042387817e-199, 8.02943568595319e-207, 7.514203230660291e-215, 4.377491037053052e-223, 1.5779972530214952e-231, 3.498807928315099e-240, 4.743086838588059e-249, 3.9077196434274405e-258, 1.944918024528437e-267, 5.812848693250213e-277, 1.0370048397415269e-286, 1.0976675574358193e-296, 6.852568525186185e-307, 0.0, 0.0, 0.0, 0.0, 0.0, 0.0, 0.0, 0.0, 0.0, 0.0, 0.0, 0.0, 0.0, 0.0, 0.0, 0.0, 0.0, 0.0, 0.0, 0.0, 0.0, 0.0, 0.0, 0.0, 0.0, 0.0, 0.0, 0.0, 0.0, 0.0, 0.0, 0.0, 0.0, 0.0, 0.0, 0.0], 'sqr': [1.0, 0.9900990099009901, 0.9615384615384615, 0.9174311926605504, 0.8620689655172413, 0.8, 0.7352941176470588, 0.6711409395973154, 0.6097560975609756, 0.5524861878453039, 0.5, 0.45248868778280543, 0.40983606557377045, 0.3717472118959107, 0.3378378378378378, 0.3076923076923077, 0.28089887640449435, 0.2570694087403599, 0.23584905660377356, 0.21691973969631234, 0.2, 0.18484288354898337, 0.17123287671232876, 0.15898251192368837, 0.14792899408284022, 0.13793103448275862, 0.12886597938144329, 0.12062726176115801, 0.11312217194570133, 0.10626992561105206, 0.1, 0.09425070688030159, 0.0889679715302491, 0.08410428931875524, 0.07961783439490444, 0.07547169811320754, 0.07163323782234957, 0.06807351940095302, 0.06476683937823834, 0.061690314620604564, 0.058823529411764705, 0.05614823133071306, 0.0536480686695279, 0.051308363263211906, 0.04911591355599213, 0.047058823529411764, 0.04512635379061371, 0.04330879168471199, 0.041597337770382686, 0.03998400639744101, 0.038461538461538464, 0.03702332469455757, 0.035663338088445073, 0.03437607425232038, 0.03315649867374005, 0.032, 0.03090234857849196, 0.02985965959988056, 0.02886836027713625, 0.027925160569673275, 0.02702702702702703, 0.026171159382360632, 0.025354969574036507, 0.024576062914721055, 0.02383222116301239, 0.023121387283236993, 0.022441651705565526, 0.021791239921551537, 0.021168501270110072, 0.02057189878625797, 0.02, 0.01945146858587823, 0.018925056775170323, 0.018419598452753726, 0.017934002869440458, 0.017467248908296942, 0.017018379850238255, 0.016586498590147616, 0.01617076326002587, 0.015770383220312253, 0.015384615384615385, 0.015012760846719712, 0.014654161781946068, 0.014308198597796534, 0.01397428731134712, 0.013651877133105802, 0.013340448239060833, 0.013039509714434735, 0.01274859765425803, 0.01246727340730582, 0.012195121951219513, 0.01193175038778189, 0.011676786548341894, 0.011429877700308606, 0.01119068934646374, 0.010958904109589041, 0.010734220695577498, 0.010516352928804288, 0.01030502885408079, 0.0100999899000101, 0.009900990099009901, 0.009707795359673815, 0.009520182787509518, 0.009337940050424876, 0.009160864785635763, 0.008988764044943821, 0.008821453775582213, 0.008658758334054896, 0.008500510030601835, 0.008346548702111677, 0.00819672131147541, 0.00805088157153208, 0.007908889591901296, 0.007770611547128759, 0.0076359193646915085, 0.0075046904315197, 0.007376807317792858, 0.007252157516861265, 0.0071306332002281795, 0.007012130986606829, 0.006896551724137931, 0.006783800284919611, 0.006673785371062465, 0.0065664193315385115, 0.006461617989144481, 0.006359300476947536], 'trig': [0.0, 0.09933466539753062, 0.19470917115432523, 0.2823212366975177, 0.3586780454497614, 0.42073549240394825, 0.46601954298361326, 0.4927248649942301, 0.49978680152075255, 0.4869238154390976, 0.4546487134128409, 0.40424820190979505, 0.3377315902755753, 0.2577506859107321, 0.16749407507795236, 0.0705600040299336, -0.029187071713790043, -0.12777055101341583, -0.22126022164742623, -0.3059289454713597, -0.37840124765396416, -0.4357878862067941, -0.475801036944758, -0.4968455018167323, -0.4980823044179203, -0.47946213733156917, -0.4417273278600766, -0.3863822437779936, -0.3156333189361605, -0.2323010897068783, -0.13970774909946293, -0.0415447014087482, 0.058274602425246826, 0.15577068175668934, 0.24705667556930447, 0.32849329935939453, 0.3968339319245766, 0.44935404790581346, 0.4839598360157432, 0.4992716726873025, 0.4946791233116909, 0.4703652783398863, 0.42729945404414027, 0.36719854893705667, 0.29245859644588085, 0.20605924262087827, 0.11144495705012296, 0.012387712726678882, -0.08716339061149068, -0.18323956462596422, -0.2720105554446849, -0.3499373437967718, -0.4139132345428268, -0.4613877108064037, -0.49046811503324583, -0.49999510327535174, -0.4895888645756585, -0.4596642628323378, -0.41141429748435393, -0.3467625423885612, -0.26828645900021747, -0.17911464111841352, -0.08280208772415469, 0.016811523610569236, 0.11575491255076947, 0.21008351841332046, 0.29603675735361223, 0.3701879449762243, 0.4295809074282484, 0.47184783472205233, 0.4953036778474351, 0.4990133263581808, 0.4828288882746387, 0.4473955860702516, 0.39412603368765814, 0.32514392007855847, 0.24319934442689906, 0.15155917837285113, 0.05387682614972115, -0.04595342511384082, -0.14395165833253265, -0.23621099319923305, -0.31905334117397516, -0.3891760392671492, -0.4437835167907523, -0.4806987459397784, -0.49845003302079804, -0.49632969023531637, -0.47442224895906204, -0.43360108974279066, -0.375493623385838, -0.30241641120314205, -0.21728281103594677, -0.12348683086831044, -0.02476782043918371, 0.07493860483147616, 0.17165746440994936, 0.2615328825788497, 0.34098181003406774, 0.4068368687535526, 0.4564726253638138, 0.4879102588834881, 0.4998964500713347, 0.49195334730930806, 0.4643976170386202, 0.418327819268028, 0.35558061145298997, 0.27865752675882927, 0.19062524582747006, 0.09499333789771885, -0.004425654645201938, -0.10366821030338112, -0.19877784156071807, -0.2859628275547819, -0.3617473780221225, -0.4231102020875853, -0.46760495759727005, -0.4934577790603247, -0.4996379960683139, -0.4858992228719316, -0.4527891810033119, -0.4016278633469763, -0.3344549101890108, -0.25394829519531104, -0.16331756305236111, -0.06617587504888651]}\n"
     ]
    }
   ],
   "source": [
    "print(data)"
   ]
  },
  {
   "cell_type": "code",
   "execution_count": 30,
   "metadata": {},
   "outputs": [
    {
     "data": {
      "text/html": [
       "<div>\n",
       "<style scoped>\n",
       "    .dataframe tbody tr th:only-of-type {\n",
       "        vertical-align: middle;\n",
       "    }\n",
       "\n",
       "    .dataframe tbody tr th {\n",
       "        vertical-align: top;\n",
       "    }\n",
       "\n",
       "    .dataframe thead th {\n",
       "        text-align: right;\n",
       "    }\n",
       "</style>\n",
       "<table border=\"1\" class=\"dataframe\">\n",
       "  <thead>\n",
       "    <tr style=\"text-align: right;\">\n",
       "      <th></th>\n",
       "      <th>sin</th>\n",
       "      <th>cos</th>\n",
       "      <th>exp</th>\n",
       "      <th>sqr</th>\n",
       "      <th>trig</th>\n",
       "    </tr>\n",
       "  </thead>\n",
       "  <tbody>\n",
       "    <tr>\n",
       "      <th>0</th>\n",
       "      <td>0.000000</td>\n",
       "      <td>1.000000</td>\n",
       "      <td>0.166667</td>\n",
       "      <td>1.000000</td>\n",
       "      <td>0.000000</td>\n",
       "    </tr>\n",
       "    <tr>\n",
       "      <th>1</th>\n",
       "      <td>0.099833</td>\n",
       "      <td>0.995004</td>\n",
       "      <td>0.166639</td>\n",
       "      <td>0.990099</td>\n",
       "      <td>0.099335</td>\n",
       "    </tr>\n",
       "    <tr>\n",
       "      <th>2</th>\n",
       "      <td>0.198669</td>\n",
       "      <td>0.980067</td>\n",
       "      <td>0.166444</td>\n",
       "      <td>0.961538</td>\n",
       "      <td>0.194709</td>\n",
       "    </tr>\n",
       "    <tr>\n",
       "      <th>3</th>\n",
       "      <td>0.295520</td>\n",
       "      <td>0.955336</td>\n",
       "      <td>0.165910</td>\n",
       "      <td>0.917431</td>\n",
       "      <td>0.282321</td>\n",
       "    </tr>\n",
       "    <tr>\n",
       "      <th>4</th>\n",
       "      <td>0.389418</td>\n",
       "      <td>0.921061</td>\n",
       "      <td>0.164851</td>\n",
       "      <td>0.862069</td>\n",
       "      <td>0.358678</td>\n",
       "    </tr>\n",
       "    <tr>\n",
       "      <th>...</th>\n",
       "      <td>...</td>\n",
       "      <td>...</td>\n",
       "      <td>...</td>\n",
       "      <td>...</td>\n",
       "      <td>...</td>\n",
       "    </tr>\n",
       "    <tr>\n",
       "      <th>121</th>\n",
       "      <td>-0.449647</td>\n",
       "      <td>0.893206</td>\n",
       "      <td>0.000000</td>\n",
       "      <td>0.006784</td>\n",
       "      <td>-0.401628</td>\n",
       "    </tr>\n",
       "    <tr>\n",
       "      <th>122</th>\n",
       "      <td>-0.358229</td>\n",
       "      <td>0.933634</td>\n",
       "      <td>0.000000</td>\n",
       "      <td>0.006674</td>\n",
       "      <td>-0.334455</td>\n",
       "    </tr>\n",
       "    <tr>\n",
       "      <th>123</th>\n",
       "      <td>-0.263232</td>\n",
       "      <td>0.964733</td>\n",
       "      <td>0.000000</td>\n",
       "      <td>0.006566</td>\n",
       "      <td>-0.253948</td>\n",
       "    </tr>\n",
       "    <tr>\n",
       "      <th>124</th>\n",
       "      <td>-0.165604</td>\n",
       "      <td>0.986192</td>\n",
       "      <td>0.000000</td>\n",
       "      <td>0.006462</td>\n",
       "      <td>-0.163318</td>\n",
       "    </tr>\n",
       "    <tr>\n",
       "      <th>125</th>\n",
       "      <td>-0.066322</td>\n",
       "      <td>0.997798</td>\n",
       "      <td>0.000000</td>\n",
       "      <td>0.006359</td>\n",
       "      <td>-0.066176</td>\n",
       "    </tr>\n",
       "  </tbody>\n",
       "</table>\n",
       "<p>126 rows × 5 columns</p>\n",
       "</div>"
      ],
      "text/plain": [
       "          sin       cos       exp       sqr      trig\n",
       "0    0.000000  1.000000  0.166667  1.000000  0.000000\n",
       "1    0.099833  0.995004  0.166639  0.990099  0.099335\n",
       "2    0.198669  0.980067  0.166444  0.961538  0.194709\n",
       "3    0.295520  0.955336  0.165910  0.917431  0.282321\n",
       "4    0.389418  0.921061  0.164851  0.862069  0.358678\n",
       "..        ...       ...       ...       ...       ...\n",
       "121 -0.449647  0.893206  0.000000  0.006784 -0.401628\n",
       "122 -0.358229  0.933634  0.000000  0.006674 -0.334455\n",
       "123 -0.263232  0.964733  0.000000  0.006566 -0.253948\n",
       "124 -0.165604  0.986192  0.000000  0.006462 -0.163318\n",
       "125 -0.066322  0.997798  0.000000  0.006359 -0.066176\n",
       "\n",
       "[126 rows x 5 columns]"
      ]
     },
     "execution_count": 30,
     "metadata": {},
     "output_type": "execute_result"
    }
   ],
   "source": [
    "import pandas as pd\n",
    "table = pd.DataFrame(data)\n",
    "table"
   ]
  },
  {
   "cell_type": "code",
   "execution_count": 32,
   "metadata": {},
   "outputs": [
    {
     "data": {
      "text/plain": [
       "<matplotlib.axes._subplots.AxesSubplot at 0x182baac14c8>"
      ]
     },
     "execution_count": 32,
     "metadata": {},
     "output_type": "execute_result"
    },
    {
     "data": {
      "image/png": "[encoded data removed]",
      "text/plain": [
       "<Figure size 432x288 with 1 Axes>"
      ]
     },
     "metadata": {
      "needs_background": "light"
     },
     "output_type": "display_data"
    }
   ],
   "source": [
    "%matplotlib inline\n",
    "table.plot()"
   ]
  },
  {
   "cell_type": "code",
   "execution_count": null,
   "metadata": {},
   "outputs": [],
   "source": []
  }
 ],
 "metadata": {
  "kernelspec": {
   "display_name": "Python 3",
   "language": "python",
   "name": "python3"
  },
  "language_info": {
   "codemirror_mode": {
    "name": "ipython",
    "version": 3
   },
   "file_extension": ".py",
   "mimetype": "text/x-python",
   "name": "python",
   "nbconvert_exporter": "python",
   "pygments_lexer": "ipython3",
   "version": "3.7.6"
  }
 },
 "nbformat": 4,
 "nbformat_minor": 4
}
